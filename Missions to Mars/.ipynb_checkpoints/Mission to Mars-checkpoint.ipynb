{
 "cells": [
  {
   "cell_type": "code",
   "execution_count": 1,
   "metadata": {},
   "outputs": [],
   "source": [
    "from splinter import Browser\n",
    "from bs4 import BeautifulSoup\n",
    "import pandas as pd\n",
    "import time"
   ]
  },
  {
   "cell_type": "code",
   "execution_count": 2,
   "metadata": {},
   "outputs": [],
   "source": [
    "def init_browser():\n",
    "    # @NOTE: Replace the path with your actual path to the chromedriver\n",
    "    executable_path = {\"executable_path\": \"chromedriver\"}\n",
    "    return Browser(\"chrome\", **executable_path, headless=False)"
   ]
  },
  {
   "cell_type": "code",
   "execution_count": 3,
   "metadata": {},
   "outputs": [],
   "source": [
    "#def scrape():\n",
    "browser = init_browser()"
   ]
  },
  {
   "cell_type": "code",
   "execution_count": 4,
   "metadata": {},
   "outputs": [],
   "source": [
    "url = \"https://mars.nasa.gov/news/\"\n",
    "browser.visit(url)\n",
    "time.sleep(2)"
   ]
  },
  {
   "cell_type": "code",
   "execution_count": null,
   "metadata": {},
   "outputs": [],
   "source": [
    "news_title = []\n",
    "news_p = []"
   ]
  },
  {
   "cell_type": "code",
   "execution_count": null,
   "metadata": {},
   "outputs": [],
   "source": [
    "html = browser.html\n",
    "soup = BeautifulSoup(html, \"html.parser\")\n",
    "results = soup.find_all(\"li\", class_=\"slide\")\n",
    "for r in results[0]:\n",
    "    try: \n",
    "        news_title = r.find(\"div\", class_=\"content_title\").get_text()\n",
    "        news_p = r.find(\"div\", class_=\"article_teaser_body\").get_text()\n",
    "    except:\n",
    "        pass\n",
    "    print(news_title)\n",
    "    print('')\n",
    "    print(news_p)"
   ]
  },
  {
   "cell_type": "code",
   "execution_count": null,
   "metadata": {},
   "outputs": [],
   "source": [
    "img_site = \"https://www.jpl.nasa.gov/spaceimages/?search=&category=Mars\"\n",
    "browser.visit(img_site)\n",
    "browser.links.find_by_partial_text('FULL').click()\n",
    "browser.links.find_by_partial_href('/spaceimages/details').click()\n",
    "browser.links.find_by_partial_href('/spaceimages/images/largesize/').click()\n",
    "\n",
    "# https://splinter.readthedocs.io/en/latest/browser.html#verifying-page-url-with-browser-url\n",
    "featured_image_url = browser.url\n",
    "\n",
    "# for i in img_url:\n",
    "#     try:\n",
    "#         featured_image_url = i.find(\"figure\", class_=\"lede\").find(\"img\")[\"src\"].get_text()\n",
    "#     except:\n",
    "#         pass\n",
    "    \n",
    "\n",
    "# for img in img_url:\n",
    "# #     print('page:', x, '-------------')\n",
    "#     print(img.string)\n",
    "\n",
    "print(featured_image_url)"
   ]
  },
  {
   "cell_type": "code",
   "execution_count": 10,
   "metadata": {},
   "outputs": [],
   "source": [
    "hemisphere_image_urls = []\n"
   ]
  },
  {
   "cell_type": "code",
   "execution_count": 11,
   "metadata": {},
   "outputs": [
    {
     "name": "stdout",
     "output_type": "stream",
     "text": [
      "{'title': 'Cerberus Hemisphere Enhanced'}\n",
      "{'title': 'Schiaparelli Hemisphere Enhanced'}\n",
      "{'title': 'Syrtis Major Hemisphere Enhanced'}\n",
      "{'title': 'Valles Marineris Hemisphere Enhanced'}\n"
     ]
    }
   ],
   "source": [
    "hems_url = 'https://astrogeology.usgs.gov/search/results?q=hemisphere+enhanced&k1=target&v1=Mars'\n",
    "browser.visit(hems_url)\n",
    "html = browser.html\n",
    "soup = BeautifulSoup(html, \"html.parser\")\n",
    "titles = soup.find_all(\"div\", class_=\"description\")\n",
    "for t in titles:\n",
    "    try:\n",
    "        result = {}\n",
    "        result[\"title\"] = t.find(\"h3\").get_text()\n",
    "        hemisphere_image_urls.append(result)\n",
    "    except:\n",
    "        pass\n",
    "    \n",
    "    print(result)"
   ]
  },
  {
   "cell_type": "code",
   "execution_count": null,
   "metadata": {},
   "outputs": [],
   "source": [
    "# hems_url = 'https://astrogeology.usgs.gov/search/results?q=hemisphere+enhanced&k1=target&v1=Mars'\n",
    "# browser.visit(hems_url)\n",
    "# browser.links.find_by_partial_text('Cerberus').click()\n",
    "# cerberus_text = soup.find_all\n",
    "\n",
    "# title_text = {}"
   ]
  },
  {
   "cell_type": "code",
   "execution_count": null,
   "metadata": {},
   "outputs": [],
   "source": [
    "browser.url"
   ]
  },
  {
   "cell_type": "code",
   "execution_count": null,
   "metadata": {},
   "outputs": [],
   "source": [
    "browser.quit()"
   ]
  },
  {
   "cell_type": "code",
   "execution_count": null,
   "metadata": {},
   "outputs": [],
   "source": [
    "facts_url ='https://space-facts.com/mars/'\n",
    "\n",
    "mars_facts = pd.read_html(facts_url)"
   ]
  },
  {
   "cell_type": "code",
   "execution_count": null,
   "metadata": {},
   "outputs": [],
   "source": [
    "facts_table = mars_facts[0]\n",
    "facts_table.head(9)"
   ]
  },
  {
   "cell_type": "code",
   "execution_count": 12,
   "metadata": {},
   "outputs": [
    {
     "data": {
      "text/plain": [
       "[{'title': 'Cerberus Hemisphere Enhanced'},\n",
       " {'title': 'Schiaparelli Hemisphere Enhanced'},\n",
       " {'title': 'Syrtis Major Hemisphere Enhanced'},\n",
       " {'title': 'Valles Marineris Hemisphere Enhanced'}]"
      ]
     },
     "execution_count": 12,
     "metadata": {},
     "output_type": "execute_result"
    }
   ],
   "source": []
  },
  {
   "cell_type": "code",
   "execution_count": null,
   "metadata": {},
   "outputs": [],
   "source": []
  },
  {
   "cell_type": "code",
   "execution_count": null,
   "metadata": {},
   "outputs": [],
   "source": []
  },
  {
   "cell_type": "code",
   "execution_count": null,
   "metadata": {},
   "outputs": [],
   "source": []
  }
 ],
 "metadata": {
  "kernelspec": {
   "display_name": "Python 3",
   "language": "python",
   "name": "python3"
  },
  "language_info": {
   "codemirror_mode": {
    "name": "ipython",
    "version": 3
   },
   "file_extension": ".py",
   "mimetype": "text/x-python",
   "name": "python",
   "nbconvert_exporter": "python",
   "pygments_lexer": "ipython3",
   "version": "3.6.10"
  }
 },
 "nbformat": 4,
 "nbformat_minor": 4
}
