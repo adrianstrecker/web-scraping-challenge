{
 "cells": [
  {
   "cell_type": "code",
   "execution_count": 1,
   "metadata": {},
   "outputs": [],
   "source": [
    "from splinter import Browser\n",
    "from bs4 import BeautifulSoup\n",
    "import time"
   ]
  },
  {
   "cell_type": "code",
   "execution_count": 2,
   "metadata": {},
   "outputs": [],
   "source": [
    "def init_browser():\n",
    "    # @NOTE: Replace the path with your actual path to the chromedriver\n",
    "    executable_path = {\"executable_path\": \"chromedriver\"}\n",
    "    return Browser(\"chrome\", **executable_path, headless=False)"
   ]
  },
  {
   "cell_type": "code",
   "execution_count": 3,
   "metadata": {},
   "outputs": [],
   "source": [
    "# def scrape():\n",
    "browser = init_browser()"
   ]
  },
  {
   "cell_type": "code",
   "execution_count": 4,
   "metadata": {},
   "outputs": [],
   "source": [
    "url = \"https://mars.nasa.gov/news/\"\n",
    "browser.visit(url)\n",
    "time.sleep(2)"
   ]
  },
  {
   "cell_type": "code",
   "execution_count": 34,
   "metadata": {},
   "outputs": [],
   "source": [
    "html = browser.html\n",
    "soup = BeautifulSoup(html, \"html.parser\")\n",
    "results = soup.find_all(\"div\", class_=\"content_title\")"
   ]
  },
  {
   "cell_type": "code",
   "execution_count": 36,
   "metadata": {},
   "outputs": [
    {
     "name": "stdout",
     "output_type": "stream",
     "text": [
      "[<div class=\"content_title\">Mars Now</div>, <div class=\"content_title\"><a href=\"/news/8770/nasas-perseverance-rover-will-peer-beneath-mars-surface/\" target=\"_self\">NASA's Perseverance Rover Will Peer Beneath Mars' Surface </a></div>, <div class=\"content_title\"><a href=\"/news/8765/ai-is-helping-scientists-discover-fresh-craters-on-mars/\" target=\"_self\">AI Is Helping Scientists Discover Fresh Craters on Mars</a></div>, <div class=\"content_title\"><a href=\"/news/8762/nasas-new-mars-rover-is-ready-for-space-lasers/\" target=\"_self\">NASA's New Mars Rover Is Ready for Space Lasers</a></div>, <div class=\"content_title\"><a href=\"/news/8759/nasas-new-mars-rover-will-use-x-rays-to-hunt-fossils/\" target=\"_self\">NASA's New Mars Rover Will Use X-Rays to Hunt Fossils</a></div>, <div class=\"content_title\"><a href=\"/news/8756/my-culture-my-voice/\" target=\"_self\">My Culture, My Voice</a></div>, <div class=\"content_title\"><a href=\"/news/8749/nasa-readies-perseverance-mars-rovers-earthly-twin/\" target=\"_self\">NASA Readies Perseverance Mars Rover's Earthly Twin </a></div>, <div class=\"content_title\"><a href=\"/news/8744/nasa-engineers-checking-insights-weather-sensors/\" target=\"_self\">NASA Engineers Checking InSight's Weather Sensors</a></div>, <div class=\"content_title\"><a href=\"/news/8742/follow-nasas-perseverance-rover-in-real-time-on-its-way-to-mars/\" target=\"_self\">Follow NASA's Perseverance Rover in Real Time on Its Way to Mars</a></div>, <div class=\"content_title\"><a href=\"/news/8737/nasa-establishes-board-to-initially-review-mars-sample-return-plans/\" target=\"_self\">NASA Establishes Board to Initially Review Mars Sample Return Plans</a></div>, <div class=\"content_title\"><a href=\"/news/8736/nasas-ingenuity-mars-helicopter-recharges-its-batteries-in-flight/\" target=\"_self\">NASA's Ingenuity Mars Helicopter Recharges Its Batteries in Flight</a></div>, <div class=\"content_title\"><a href=\"/news/8735/celebrate-mars-reconnaissance-orbiters-views-from-above/\" target=\"_self\">Celebrate Mars Reconnaissance Orbiter's Views From Above</a></div>, <div class=\"content_title\"><a href=\"/news/8731/nasas-maven-observes-martian-night-sky-pulsing-in-ultraviolet-light/\" target=\"_self\">NASA's MAVEN Observes Martian Night Sky Pulsing in Ultraviolet Light</a></div>, <div class=\"content_title\"><a href=\"/news/8726/8-martian-postcards-to-celebrate-curiositys-landing-anniversary/\" target=\"_self\">8 Martian Postcards to Celebrate Curiosity's Landing Anniversary</a></div>, <div class=\"content_title\"><a href=\"/news/8724/nasa-ula-launch-mars-2020-perseverance-rover-mission-to-red-planet/\" target=\"_self\">NASA, ULA Launch Mars 2020 Perseverance Rover Mission to Red Planet</a></div>, <div class=\"content_title\"><a href=\"/news/8723/nasas-perseverance-rover-will-carry-first-spacesuit-materials-to-mars/\" target=\"_self\">NASA's Perseverance Rover Will Carry First Spacesuit Materials to Mars</a></div>, <div class=\"content_title\"><a href=\"/news/8721/a-new-video-captures-the-science-of-nasas-perseverance-mars-rover/\" target=\"_self\">A New Video Captures the Science of NASA's Perseverance Mars Rover</a></div>, <div class=\"content_title\"><a href=\"/news/8719/nasa-invites-public-to-share-excitement-of-mars-2020-perseverance-rover-launch/\" target=\"_self\">NASA Invites Public to Share Excitement of Mars 2020 Perseverance Rover Launch</a></div>, <div class=\"content_title\"><a href=\"/news/8718/nasas-mars-perseverance-rover-passes-flight-readiness-review/\" target=\"_self\">NASA's Mars Perseverance Rover Passes Flight Readiness Review</a></div>, <div class=\"content_title\"><a href=\"/news/8716/nasa-to-broadcast-mars-2020-perseverance-launch-prelaunch-activities/\" target=\"_self\">NASA to Broadcast Mars 2020 Perseverance Launch, Prelaunch Activities</a></div>, <div class=\"content_title\"><a href=\"/news/8712/6-things-to-know-about-nasas-ingenuity-mars-helicopter/\" target=\"_self\">6 Things to Know About NASA's Ingenuity Mars Helicopter</a></div>, <div class=\"content_title\"><a href=\"/news/8710/join-nasa-for-the-launch-of-the-mars-2020-perseverance-rover/\" target=\"_self\">Join NASA for the Launch of the Mars 2020 Perseverance Rover</a></div>, <div class=\"content_title\"><a href=\"/news/8709/nasas-perseverance-rover-attached-to-atlas-v-rocket/\" target=\"_self\">NASA's Perseverance Rover Attached to Atlas V Rocket</a></div>, <div class=\"content_title\"><a href=\"/news/8707/7-things-to-know-about-the-mars-2020-perseverance-rover-mission/\" target=\"_self\">7 Things to Know About the Mars 2020 Perseverance Rover Mission</a></div>, <div class=\"content_title\"><a href=\"/news/8705/nasas-insight-flexes-its-arm-while-its-mole-hits-pause/\" target=\"_self\">NASA's InSight Flexes Its Arm While Its 'Mole' Hits Pause</a></div>, <div class=\"content_title\"><a href=\"/news/8704/curiosity-mars-rovers-summer-road-trip-has-begun/\" target=\"_self\">Curiosity Mars Rover's Summer Road Trip Has Begun</a></div>, <div class=\"content_title\"><a href=\"/news/8699/how-nasas-mars-helicopter-will-reach-the-red-planets-surface/\" target=\"_self\">How NASA's Mars Helicopter Will Reach the Red Planet's Surface</a></div>, <div class=\"content_title\"><a href=\"/news/8695/the-launch-is-approaching-for-nasas-next-mars-rover-perseverance/\" target=\"_self\">The Launch Is Approaching for NASA's Next Mars Rover, Perseverance</a></div>, <div class=\"content_title\"><a href=\"/news/8692/nasa-to-hold-mars-2020-perseverance-rover-launch-briefing/\" target=\"_self\">NASA to Hold Mars 2020 Perseverance Rover Launch Briefing</a></div>, <div class=\"content_title\"><a href=\"/news/8691/while-stargazing-on-mars-nasas-curiosity-rover-spots-earth-and-venus/\" target=\"_self\">While Stargazing on Mars, NASA's Curiosity Rover Spots Earth and Venus</a></div>, <div class=\"content_title\"><a href=\"/news/8689/nasas-mars-rover-drivers-need-your-help/\" target=\"_self\">NASA's Mars Rover Drivers Need Your Help</a></div>, <div class=\"content_title\"><a href=\"/news/8687/three-new-views-of-mars-moon-phobos/\" target=\"_self\">Three New Views of Mars' Moon Phobos</a></div>, <div class=\"content_title\"><a href=\"/news/8682/the-extraordinary-sample-gathering-system-of-nasas-perseverance-mars-rover/\" target=\"_self\">The Extraordinary Sample-Gathering System of NASA's Perseverance Mars Rover</a></div>, <div class=\"content_title\"><a href=\"/news/8678/the-detective-aboard-nasas-perseverance-rover/\" target=\"_self\">The Detective Aboard NASA's Perseverance Rover</a></div>, <div class=\"content_title\"><a href=\"/news/8680/maven-maps-electric-currents-around-mars-that-are-fundamental-to-atmospheric-loss/\" target=\"_self\">MAVEN Maps Electric Currents around Mars that are Fundamental to Atmospheric Loss</a></div>, <div class=\"content_title\"><a href=\"/news/8677/air-deliveries-bring-nasas-perseverance-mars-rover-closer-to-launch/\" target=\"_self\">Air Deliveries Bring NASA's Perseverance Mars Rover Closer to Launch</a></div>, <div class=\"content_title\"><a href=\"/news/8675/nasa-wins-4-webbys-4-peoples-voice-awards/\" target=\"_self\">NASA Wins 4 Webbys, 4 People's Voice Awards</a></div>, <div class=\"content_title\"><a href=\"/news/8671/nasas-perseverance-rover-goes-through-trials-by-fire-ice-light-and-sound/\" target=\"_self\">NASA's Perseverance Rover Goes Through Trials by Fire, Ice, Light and Sound</a></div>, <div class=\"content_title\"><a href=\"/news/8657/nasas-perseverance-rover-mission-getting-in-shape-for-launch/\" target=\"_self\">NASA's Perseverance Rover Mission Getting in Shape for Launch</a></div>, <div class=\"content_title\"><a href=\"/news/8666/nasa-perseverance-mars-rover-scientists-train-in-the-nevada-desert/\" target=\"_self\">NASA Perseverance Mars Rover Scientists Train in the Nevada Desert</a></div>, <div class=\"content_title\"><a href=\"/news/8663/nasas-perseverance-rover-will-look-at-mars-through-these-eyes/\" target=\"_self\">NASA's Perseverance Rover Will Look at Mars Through These 'Eyes'</a></div>, <div class=\"content_title\">\n",
      "<a href=\"/news/8645/mars-helicopter-attached-to-nasas-perseverance-rover/\">\n",
      "Mars Helicopter Attached to NASA's Perseverance Rover\n",
      "</a>\n",
      "</div>, <div class=\"content_title\">\n",
      "<a href=\"/news/8641/nasas-perseverance-mars-rover-gets-its-wheels-and-air-brakes/\">\n",
      "NASA's Perseverance Mars Rover Gets Its Wheels and Air Brakes\n",
      "</a>\n",
      "</div>, <div class=\"content_title\">\n",
      "<a href=\"/news/8716/nasa-to-broadcast-mars-2020-perseverance-launch-prelaunch-activities/\">\n",
      "NASA to Broadcast Mars 2020 Perseverance Launch, Prelaunch Activities\n",
      "</a>\n",
      "</div>, <div class=\"content_title\">\n",
      "<a href=\"/news/8695/the-launch-is-approaching-for-nasas-next-mars-rover-perseverance/\">\n",
      "The Launch Is Approaching for NASA's Next Mars Rover, Perseverance\n",
      "</a>\n",
      "</div>, <div class=\"content_title\">\n",
      "<a href=\"/news/8692/nasa-to-hold-mars-2020-perseverance-rover-launch-briefing/\">\n",
      "NASA to Hold Mars 2020 Perseverance Rover Launch Briefing\n",
      "</a>\n",
      "</div>, <div class=\"content_title\">\n",
      "<a href=\"/news/8659/alabama-high-school-student-names-nasas-mars-helicopter/\">\n",
      "Alabama High School Student Names NASA's Mars Helicopter\n",
      "</a>\n",
      "</div>, <div class=\"content_title\">\n",
      "<a href=\"/news/8645/mars-helicopter-attached-to-nasas-perseverance-rover/\">\n",
      "Mars Helicopter Attached to NASA's Perseverance Rover\n",
      "</a>\n",
      "</div>, <div class=\"content_title\">\n",
      "<a href=\"/news/8641/nasas-perseverance-mars-rover-gets-its-wheels-and-air-brakes/\">\n",
      "NASA's Perseverance Mars Rover Gets Its Wheels and Air Brakes\n",
      "</a>\n",
      "</div>, <div class=\"content_title\">\n",
      "<a href=\"/news/8716/nasa-to-broadcast-mars-2020-perseverance-launch-prelaunch-activities/\">\n",
      "NASA to Broadcast Mars 2020 Perseverance Launch, Prelaunch Activities\n",
      "</a>\n",
      "</div>, <div class=\"content_title\">\n",
      "<a href=\"/news/8695/the-launch-is-approaching-for-nasas-next-mars-rover-perseverance/\">\n",
      "The Launch Is Approaching for NASA's Next Mars Rover, Perseverance\n",
      "</a>\n",
      "</div>]\n"
     ]
    }
   ],
   "source": [
    "print(results)"
   ]
  },
  {
   "cell_type": "code",
   "execution_count": 38,
   "metadata": {},
   "outputs": [
    {
     "name": "stdout",
     "output_type": "stream",
     "text": [
      "Mars Now\n",
      "NASA's Perseverance Rover Will Peer Beneath Mars' Surface \n",
      "AI Is Helping Scientists Discover Fresh Craters on Mars\n",
      "NASA's New Mars Rover Is Ready for Space Lasers\n",
      "NASA's New Mars Rover Will Use X-Rays to Hunt Fossils\n",
      "My Culture, My Voice\n",
      "NASA Readies Perseverance Mars Rover's Earthly Twin \n",
      "NASA Engineers Checking InSight's Weather Sensors\n",
      "Follow NASA's Perseverance Rover in Real Time on Its Way to Mars\n",
      "NASA Establishes Board to Initially Review Mars Sample Return Plans\n",
      "NASA's Ingenuity Mars Helicopter Recharges Its Batteries in Flight\n",
      "Celebrate Mars Reconnaissance Orbiter's Views From Above\n",
      "NASA's MAVEN Observes Martian Night Sky Pulsing in Ultraviolet Light\n",
      "8 Martian Postcards to Celebrate Curiosity's Landing Anniversary\n",
      "NASA, ULA Launch Mars 2020 Perseverance Rover Mission to Red Planet\n",
      "NASA's Perseverance Rover Will Carry First Spacesuit Materials to Mars\n",
      "A New Video Captures the Science of NASA's Perseverance Mars Rover\n",
      "NASA Invites Public to Share Excitement of Mars 2020 Perseverance Rover Launch\n",
      "NASA's Mars Perseverance Rover Passes Flight Readiness Review\n",
      "NASA to Broadcast Mars 2020 Perseverance Launch, Prelaunch Activities\n",
      "6 Things to Know About NASA's Ingenuity Mars Helicopter\n",
      "Join NASA for the Launch of the Mars 2020 Perseverance Rover\n",
      "NASA's Perseverance Rover Attached to Atlas V Rocket\n",
      "7 Things to Know About the Mars 2020 Perseverance Rover Mission\n",
      "NASA's InSight Flexes Its Arm While Its 'Mole' Hits Pause\n",
      "Curiosity Mars Rover's Summer Road Trip Has Begun\n",
      "How NASA's Mars Helicopter Will Reach the Red Planet's Surface\n",
      "The Launch Is Approaching for NASA's Next Mars Rover, Perseverance\n",
      "NASA to Hold Mars 2020 Perseverance Rover Launch Briefing\n",
      "While Stargazing on Mars, NASA's Curiosity Rover Spots Earth and Venus\n",
      "NASA's Mars Rover Drivers Need Your Help\n",
      "Three New Views of Mars' Moon Phobos\n",
      "The Extraordinary Sample-Gathering System of NASA's Perseverance Mars Rover\n",
      "The Detective Aboard NASA's Perseverance Rover\n",
      "MAVEN Maps Electric Currents around Mars that are Fundamental to Atmospheric Loss\n",
      "Air Deliveries Bring NASA's Perseverance Mars Rover Closer to Launch\n",
      "NASA Wins 4 Webbys, 4 People's Voice Awards\n",
      "NASA's Perseverance Rover Goes Through Trials by Fire, Ice, Light and Sound\n",
      "NASA's Perseverance Rover Mission Getting in Shape for Launch\n",
      "NASA Perseverance Mars Rover Scientists Train in the Nevada Desert\n",
      "NASA's Perseverance Rover Will Look at Mars Through These 'Eyes'\n",
      "\n",
      "\n",
      "Mars Helicopter Attached to NASA's Perseverance Rover\n",
      "\n",
      "\n",
      "\n",
      "\n",
      "NASA's Perseverance Mars Rover Gets Its Wheels and Air Brakes\n",
      "\n",
      "\n",
      "\n",
      "\n",
      "NASA to Broadcast Mars 2020 Perseverance Launch, Prelaunch Activities\n",
      "\n",
      "\n",
      "\n",
      "\n",
      "The Launch Is Approaching for NASA's Next Mars Rover, Perseverance\n",
      "\n",
      "\n",
      "\n",
      "\n",
      "NASA to Hold Mars 2020 Perseverance Rover Launch Briefing\n",
      "\n",
      "\n",
      "\n",
      "\n",
      "Alabama High School Student Names NASA's Mars Helicopter\n",
      "\n",
      "\n",
      "\n",
      "\n",
      "Mars Helicopter Attached to NASA's Perseverance Rover\n",
      "\n",
      "\n",
      "\n",
      "\n",
      "NASA's Perseverance Mars Rover Gets Its Wheels and Air Brakes\n",
      "\n",
      "\n",
      "\n",
      "\n",
      "NASA to Broadcast Mars 2020 Perseverance Launch, Prelaunch Activities\n",
      "\n",
      "\n",
      "\n",
      "\n",
      "The Launch Is Approaching for NASA's Next Mars Rover, Perseverance\n",
      "\n",
      "\n"
     ]
    }
   ],
   "source": [
    "for r in results:\n",
    "    print(r.text)"
   ]
  },
  {
   "cell_type": "code",
   "execution_count": null,
   "metadata": {},
   "outputs": [],
   "source": [
    "(\"div\", class_=\"content_title\")"
   ]
  },
  {
   "cell_type": "code",
   "execution_count": null,
   "metadata": {},
   "outputs": [],
   "source": []
  }
 ],
 "metadata": {
  "kernelspec": {
   "display_name": "Python 3",
   "language": "python",
   "name": "python3"
  },
  "language_info": {
   "codemirror_mode": {
    "name": "ipython",
    "version": 3
   },
   "file_extension": ".py",
   "mimetype": "text/x-python",
   "name": "python",
   "nbconvert_exporter": "python",
   "pygments_lexer": "ipython3",
   "version": "3.6.10"
  }
 },
 "nbformat": 4,
 "nbformat_minor": 4
}
