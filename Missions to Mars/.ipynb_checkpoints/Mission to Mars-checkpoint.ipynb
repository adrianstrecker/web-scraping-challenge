{
 "cells": [
  {
   "cell_type": "code",
   "execution_count": 1,
   "metadata": {},
   "outputs": [],
   "source": [
    "from splinter import Browser\n",
    "from bs4 import BeautifulSoup\n",
    "import pandas as pd\n",
    "import time"
   ]
  },
  {
   "cell_type": "code",
   "execution_count": 2,
   "metadata": {},
   "outputs": [],
   "source": [
    "def init_browser():\n",
    "    # @NOTE: Replace the path with your actual path to the chromedriver\n",
    "    executable_path = {\"executable_path\": \"chromedriver\"}\n",
    "    return Browser(\"chrome\", **executable_path, headless=False)"
   ]
  },
  {
   "cell_type": "code",
   "execution_count": 3,
   "metadata": {},
   "outputs": [],
   "source": [
    "#def scrape():\n",
    "browser = init_browser()"
   ]
  },
  {
   "cell_type": "code",
   "execution_count": null,
   "metadata": {},
   "outputs": [],
   "source": [
    "url = \"https://mars.nasa.gov/news/\"\n",
    "browser.visit(url)\n",
    "time.sleep(2)"
   ]
  },
  {
   "cell_type": "code",
   "execution_count": null,
   "metadata": {},
   "outputs": [],
   "source": [
    "news_title = []\n",
    "news_p = []"
   ]
  },
  {
   "cell_type": "code",
   "execution_count": null,
   "metadata": {},
   "outputs": [],
   "source": [
    "html = browser.html\n",
    "soup = BeautifulSoup(html, \"html.parser\")\n",
    "results = soup.find_all(\"li\", class_=\"slide\")\n",
    "for r in results[0]:\n",
    "    try: \n",
    "        news_title = r.find(\"div\", class_=\"content_title\").get_text()\n",
    "        news_p = r.find(\"div\", class_=\"article_teaser_body\").get_text()\n",
    "    except:\n",
    "        pass\n",
    "    print(news_title)\n",
    "    print('')\n",
    "    print(news_p)"
   ]
  },
  {
   "cell_type": "code",
   "execution_count": null,
   "metadata": {},
   "outputs": [],
   "source": [
    "img_site = \"https://www.jpl.nasa.gov/spaceimages/?search=&category=Mars\"\n",
    "browser.visit(img_site)\n",
    "browser.links.find_by_partial_text('FULL').click()\n",
    "browser.links.find_by_partial_href('/spaceimages/details').click()\n",
    "browser.links.find_by_partial_href('/spaceimages/images/largesize/').click()\n",
    "\n",
    "# https://splinter.readthedocs.io/en/latest/browser.html#verifying-page-url-with-browser-url\n",
    "featured_image_url = browser.url\n",
    "\n",
    "# for i in img_url:\n",
    "#     try:\n",
    "#         featured_image_url = i.find(\"figure\", class_=\"lede\").find(\"img\")[\"src\"].get_text()\n",
    "#     except:\n",
    "#         pass\n",
    "    \n",
    "\n",
    "# for img in img_url:\n",
    "# #     print('page:', x, '-------------')\n",
    "#     print(img.string)\n",
    "\n",
    "print(featured_image_url)"
   ]
  },
  {
   "cell_type": "code",
   "execution_count": 4,
   "metadata": {},
   "outputs": [],
   "source": [
    "hemisphere_names = [\"Cerberus Hemisphere Enhanced\", \"Schiaparelli Hemisphere Enhanced\", \"Syrtis Major Hemisphere Enhanced\", \"Valles Marineris Hemisphere Enhanced\"]\n",
    "hemisphere_image_urls = []\n"
   ]
  },
  {
   "cell_type": "code",
   "execution_count": 17,
   "metadata": {},
   "outputs": [],
   "source": [
    "# hems_url = 'https://astrogeology.usgs.gov/search/results?q=hemisphere+enhanced&k1=target&v1=Mars'\n",
    "# browser.visit(hems_url)\n",
    "# html = browser.html\n",
    "# soup = BeautifulSoup(html, \"html.parser\")\n",
    "# titles = soup.find_all(\"div\", class_=\"description\")\n",
    "for h in hemisphere_names:\n",
    "    hems_url = 'https://astrogeology.usgs.gov/search/results?q=hemisphere+enhanced&k1=target&v1=Mars'\n",
    "    browser.visit(hems_url)\n",
    "    time.sleep(1)\n",
    "    html = browser.html\n",
    "    soup = BeautifulSoup(html, \"html.parser\")\n",
    "    browser.links.find_by_partial_text(h).click()\n",
    "    \n",
    "    result = {}\n",
    "    result[\"title\"] = soup.find_all(\"div\", class_=\"description\").find(\"h3\")\n",
    "    browser.links.find_by_partial_text('Sample').click()\n",
    "    result[\"img_url\"] = browser.url+\".tif/full.jpg\"\n",
    "        \n",
    "    hemisphere_image_urls.append(result)\n",
    "\n",
    "    \n",
    "#     print(hemisphere_image_urls)"
   ]
  },
  {
   "cell_type": "code",
   "execution_count": null,
   "metadata": {},
   "outputs": [],
   "source": [
    "# hems_url = 'https://astrogeology.usgs.gov/search/results?q=hemisphere+enhanced&k1=target&v1=Mars'\n",
    "# browser.visit(hems_url)\n",
    "# browser.links.find_by_partial_text('Cerberus').click()\n",
    "# cerberus_text = soup.find_all\n",
    "\n",
    "# title_text = {}"
   ]
  },
  {
   "cell_type": "code",
   "execution_count": null,
   "metadata": {},
   "outputs": [],
   "source": []
  },
  {
   "cell_type": "code",
   "execution_count": null,
   "metadata": {},
   "outputs": [],
   "source": [
    "browser.quit()"
   ]
  },
  {
   "cell_type": "code",
   "execution_count": null,
   "metadata": {},
   "outputs": [],
   "source": [
    "facts_url ='https://space-facts.com/mars/'\n",
    "\n",
    "mars_facts = pd.read_html(facts_url)"
   ]
  },
  {
   "cell_type": "code",
   "execution_count": null,
   "metadata": {},
   "outputs": [],
   "source": [
    "facts_table = mars_facts[0]\n",
    "facts_table.head(9)"
   ]
  },
  {
   "cell_type": "code",
   "execution_count": 18,
   "metadata": {},
   "outputs": [
    {
     "data": {
      "text/plain": [
       "[{'title': 'Cerberus Hemisphere Enhanced',\n",
       "  'img_url': 'https://astrogeology.usgs.gov/search/map/Mars/Viking/cerberus_enhanced.tif/full.jpg'},\n",
       " {'title': 'Cerberus Hemisphere Enhanced',\n",
       "  'img_url': 'https://astrogeology.usgs.gov/search/map/Mars/Viking/schiaparelli_enhanced.tif/full.jpg'},\n",
       " {'title': 'Cerberus Hemisphere Enhanced',\n",
       "  'img_url': 'https://astrogeology.usgs.gov/search/map/Mars/Viking/syrtis_major_enhanced.tif/full.jpg'},\n",
       " {'title': 'Cerberus Hemisphere Enhanced',\n",
       "  'img_url': 'https://astrogeology.usgs.gov/search/map/Mars/Viking/valles_marineris_enhanced.tif/full.jpg'},\n",
       " {'title': 'Products',\n",
       "  'img_url': 'https://astrogeology.usgs.gov/search/map/Mars/Viking/cerberus_enhanced.tif/full.jpg'},\n",
       " {'title': 'Products',\n",
       "  'img_url': 'https://astrogeology.usgs.gov/search/map/Mars/Viking/schiaparelli_enhanced.tif/full.jpg'},\n",
       " {'title': 'Products',\n",
       "  'img_url': 'https://astrogeology.usgs.gov/search/map/Mars/Viking/syrtis_major_enhanced.tif/full.jpg'},\n",
       " {'title': 'Products',\n",
       "  'img_url': 'https://astrogeology.usgs.gov/search/map/Mars/Viking/valles_marineris_enhanced.tif/full.jpg'},\n",
       " {'title': -1,\n",
       "  'img_url': 'https://astrogeology.usgs.gov/search/map/Mars/Viking/cerberus_enhanced.tif/full.jpg'},\n",
       " {'title': -1,\n",
       "  'img_url': 'https://astrogeology.usgs.gov/search/map/Mars/Viking/schiaparelli_enhanced.tif/full.jpg'},\n",
       " {'title': -1,\n",
       "  'img_url': 'https://astrogeology.usgs.gov/search/map/Mars/Viking/syrtis_major_enhanced.tif/full.jpg'},\n",
       " {'title': -1,\n",
       "  'img_url': 'https://astrogeology.usgs.gov/search/map/Mars/Viking/valles_marineris_enhanced.tif/full.jpg'},\n",
       " {'title': None,\n",
       "  'img_url': 'https://astrogeology.usgs.gov/search/map/Mars/Viking/cerberus_enhanced.tif/full.jpg'},\n",
       " {'title': None,\n",
       "  'img_url': 'https://astrogeology.usgs.gov/search/map/Mars/Viking/schiaparelli_enhanced.tif/full.jpg'},\n",
       " {'title': None,\n",
       "  'img_url': 'https://astrogeology.usgs.gov/search/map/Mars/Viking/syrtis_major_enhanced.tif/full.jpg'},\n",
       " {'title': None,\n",
       "  'img_url': 'https://astrogeology.usgs.gov/search/map/Mars/Viking/valles_marineris_enhanced.tif/full.jpg'},\n",
       " {'title': <h3>Cerberus Hemisphere Enhanced</h3>,\n",
       "  'img_url': 'https://astrogeology.usgs.gov/search/map/Mars/Viking/cerberus_enhanced.tif/full.jpg'},\n",
       " {'title': <h3>Cerberus Hemisphere Enhanced</h3>,\n",
       "  'img_url': 'https://astrogeology.usgs.gov/search/map/Mars/Viking/schiaparelli_enhanced.tif/full.jpg'},\n",
       " {'title': <h3>Cerberus Hemisphere Enhanced</h3>,\n",
       "  'img_url': 'https://astrogeology.usgs.gov/search/map/Mars/Viking/syrtis_major_enhanced.tif/full.jpg'},\n",
       " {'title': <h3>Cerberus Hemisphere Enhanced</h3>,\n",
       "  'img_url': 'https://astrogeology.usgs.gov/search/map/Mars/Viking/valles_marineris_enhanced.tif/full.jpg'}]"
      ]
     },
     "execution_count": 18,
     "metadata": {},
     "output_type": "execute_result"
    }
   ],
   "source": [
    "hemisphere_image_urls"
   ]
  },
  {
   "cell_type": "code",
   "execution_count": null,
   "metadata": {},
   "outputs": [],
   "source": [
    "\n",
    "for r in titles:\n",
    "    try:\n",
    "        hems_url = 'https://astrogeology.usgs.gov/search/results?q=hemisphere+enhanced&k1=target&v1=Mars'\n",
    "        browser.visit(hems_url)\n",
    "        browser.links.find_by_partial_text('Hemisphere').click()\n",
    "    \n",
    "        html = browser.html\n",
    "        soup = BeautifulSoup(html, \"html.parser\")\n",
    "#     hems = soup.find_all(\"div\", class_=\"description\")\n",
    "    \n",
    "        hemisphere = {}\n",
    "        result[\"img_url\"] = r.find(\"a\", target_=\"_blank\").find[\"href\"]\n",
    "        hemisphere_image_urls.append(result)\n",
    "    except:\n",
    "        pass"
   ]
  },
  {
   "cell_type": "code",
   "execution_count": null,
   "metadata": {},
   "outputs": [],
   "source": [
    "hemisphere_image_urls"
   ]
  },
  {
   "cell_type": "code",
   "execution_count": null,
   "metadata": {},
   "outputs": [],
   "source": [
    "hem_titles"
   ]
  },
  {
   "cell_type": "code",
   "execution_count": null,
   "metadata": {},
   "outputs": [],
   "source": []
  }
 ],
 "metadata": {
  "kernelspec": {
   "display_name": "Python 3",
   "language": "python",
   "name": "python3"
  },
  "language_info": {
   "codemirror_mode": {
    "name": "ipython",
    "version": 3
   },
   "file_extension": ".py",
   "mimetype": "text/x-python",
   "name": "python",
   "nbconvert_exporter": "python",
   "pygments_lexer": "ipython3",
   "version": "3.6.10"
  }
 },
 "nbformat": 4,
 "nbformat_minor": 4
}
