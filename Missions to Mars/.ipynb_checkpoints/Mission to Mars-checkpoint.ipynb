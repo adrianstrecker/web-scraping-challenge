{
 "cells": [
  {
   "cell_type": "code",
   "execution_count": 1,
   "metadata": {},
   "outputs": [],
   "source": [
    "# ---------------------------\n",
    "# Import modules ------------\n",
    "# ---------------------------\n",
    "from splinter import Browser\n",
    "from bs4 import BeautifulSoup\n",
    "import pandas as pd\n",
    "import time"
   ]
  },
  {
   "cell_type": "code",
   "execution_count": 2,
   "metadata": {},
   "outputs": [],
   "source": [
    "# ---------------------------\n",
    "# Initialize browser --------\n",
    "# ---------------------------\n",
    "def init_browser():\n",
    "    # @NOTE: Replace the path with your actual path to the chromedriver\n",
    "    executable_path = {\"executable_path\": \"chromedriver\"}\n",
    "    return Browser(\"chrome\", **executable_path, headless=False)"
   ]
  },
  {
   "cell_type": "code",
   "execution_count": 3,
   "metadata": {},
   "outputs": [],
   "source": [
    "#def scrape():\n",
    "browser = init_browser()"
   ]
  },
  {
   "cell_type": "code",
   "execution_count": 4,
   "metadata": {},
   "outputs": [],
   "source": [
    "# ---------------------------\n",
    "# Retrieve headline & summary\n",
    "# ---------------------------\n",
    "url = \"https://mars.nasa.gov/news/\"\n",
    "browser.visit(url)\n",
    "time.sleep(2)"
   ]
  },
  {
   "cell_type": "code",
   "execution_count": 5,
   "metadata": {},
   "outputs": [],
   "source": [
    "mars_info = []\n",
    "news_title = []\n",
    "news_p = []"
   ]
  },
  {
   "cell_type": "code",
   "execution_count": 15,
   "metadata": {},
   "outputs": [],
   "source": [
    "html = browser.html\n",
    "soup = BeautifulSoup(html, \"html.parser\")\n",
    "results = soup.find(\"li\", class_=\"slide\")\n",
    "for r in results:\n",
    "    try: \n",
    "        mars = {}\n",
    "        mars[\"news_title\"] = r.find(\"div\", class_=\"content_title\").get_text()\n",
    "        mars[\"news_p\"] = r.find(\"div\", class_=\"article_teaser_body\").get_text()\n",
    "        mars_info.append(mars)\n",
    "    except:\n",
    "        break\n",
    "#     print(news_title)\n",
    "#     print('')\n",
    "#     print(news_p)"
   ]
  },
  {
   "cell_type": "code",
   "execution_count": 16,
   "metadata": {},
   "outputs": [
    {
     "data": {
      "text/plain": [
       "[{'news_title': \"NASA's Perseverance Rover Will Peer Beneath Mars' Surface \",\n",
       "  'news_p': \"The agency's newest rover will use the first ground-penetrating radar instrument on the Martian surface to help search for signs of past microbial life. \"},\n",
       " {'news_title': 'AI Is Helping Scientists Discover Fresh Craters on Mars',\n",
       "  'news_p': \"It's the first time machine learning has been used to find previously unknown craters on the Red Planet.\"},\n",
       " {'news_title': \"NASA's New Mars Rover Is Ready for Space Lasers\",\n",
       "  'news_p': 'Perseverance is one of a few Mars spacecraft carrying laser retroreflectors. The devices could provide new science and safer Mars landings in the future.'},\n",
       " {'news_title': \"NASA's New Mars Rover Will Use X-Rays to Hunt Fossils\",\n",
       "  'news_p': \"PIXL, an instrument on the end of the Perseverance rover's arm, will search for chemical fingerprints left by ancient microbes.\"},\n",
       " {'news_title': 'My Culture, My Voice',\n",
       "  'news_p': 'In honor of Hispanic Heritage Month, Christina Hernandez, an instrument engineer on the Mars 2020 mission, talks about her childhood and journey to NASA.'},\n",
       " {'news_title': \"NASA Readies Perseverance Mars Rover's Earthly Twin \",\n",
       "  'news_p': \"Did you know NASA's next Mars rover has a nearly identical sibling on Earth for testing? Even better, it's about to roll for the first time through a replica Martian landscape.\"},\n",
       " {'news_title': \"NASA Engineers Checking InSight's Weather Sensors\",\n",
       "  'news_p': 'An electronics issue is suspected to be preventing the sensors from sharing their data about Mars weather with the spacecraft.'},\n",
       " {'news_title': \"Follow NASA's Perseverance Rover in Real Time on Its Way to Mars\",\n",
       "  'news_p': \"A crisply rendered web application can show you where the agency's Mars 2020 mission is right now as it makes its way to the Red Planet for a Feb. 18, 2021, landing.\"},\n",
       " {'news_title': 'NASA Establishes Board to Initially Review Mars Sample Return Plans',\n",
       "  'news_p': 'The board will assist with analysis of current plans and goals for one of the most difficult missions humanity has ever undertaken.'},\n",
       " {'news_title': \"NASA's Ingenuity Mars Helicopter Recharges Its Batteries in Flight\",\n",
       "  'news_p': 'Headed to the Red Planet with the Perseverance rover, the pioneering helicopter is powered up for the first time in interplanetary space as part of a systems check.'},\n",
       " {'news_title': \"Celebrate Mars Reconnaissance Orbiter's Views From Above\",\n",
       "  'news_p': 'Marking its 15th anniversary since launch, one of the oldest spacecraft at the Red Planet has provided glimpses of dust devils, avalanches, and more.'},\n",
       " {'news_title': \"NASA's MAVEN Observes Martian Night Sky Pulsing in Ultraviolet Light\",\n",
       "  'news_p': 'Vast areas of the Martian night sky pulse in ultraviolet light, according to images from NASA’s MAVEN spacecraft. The results are being used to illuminate complex circulation patterns in the Martian atmosphere.'},\n",
       " {'news_title': \"8 Martian Postcards to Celebrate Curiosity's Landing Anniversary\",\n",
       "  'news_p': 'The NASA rover touched down eight years ago, on Aug. 5, 2012, and will soon be joined by a second rover, Perseverance.'},\n",
       " {'news_title': 'NASA, ULA Launch Mars 2020 Perseverance Rover Mission to Red Planet',\n",
       "  'news_p': \"The agency's Mars 2020 mission is on its way. It will land at Jezero Crater in about seven months, on Feb. 18, 2021. \"},\n",
       " {'news_title': \"NASA's Perseverance Rover Will Carry First Spacesuit Materials to Mars\",\n",
       "  'news_p': 'In a Q&A, spacesuit designer Amy Ross explains how five samples, including a piece of helmet visor, will be tested aboard the rover, which is targeting a July 30 launch. '},\n",
       " {'news_title': \"A New Video Captures the Science of NASA's Perseverance Mars Rover\",\n",
       "  'news_p': 'With a targeted launch date of July 30, the next robotic scientist NASA is sending to the to the Red Planet has big ambitions.'},\n",
       " {'news_title': 'NASA Invites Public to Share Excitement of Mars 2020 Perseverance Rover Launch',\n",
       "  'news_p': 'There are lots of ways to participate in the historic event, which is targeted for July 30.'},\n",
       " {'news_title': \"NASA's Mars Perseverance Rover Passes Flight Readiness Review\",\n",
       "  'news_p': \"\\u200bThe agency's Mars 2020 mission has one more big prelaunch review – the Launch Readiness Review, on July 27.\"},\n",
       " {'news_title': 'NASA to Broadcast Mars 2020 Perseverance Launch, Prelaunch Activities',\n",
       "  'news_p': 'Starting July 27, news activities will cover everything from mission engineering and science to returning samples from Mars to, of course, the launch itself.'},\n",
       " {'news_title': \"6 Things to Know About NASA's Ingenuity Mars Helicopter\",\n",
       "  'news_p': 'The first helicopter attempting to fly on another planet is a marvel of engineering. Get up to speed with these key facts about its plans.'},\n",
       " {'news_title': 'Join NASA for the Launch of the Mars 2020 Perseverance Rover',\n",
       "  'news_p': 'No matter where you live, choose from a menu of activities to join NASA as we \"Countdown to Mars\" and launch the Perseverance rover to the Red Planet.'},\n",
       " {'news_title': \"NASA's Perseverance Rover Attached to Atlas V Rocket\",\n",
       "  'news_p': 'Ready for its launch later in the month, the Mars-bound rover will touch terra firma no more.'},\n",
       " {'news_title': '7 Things to Know About the Mars 2020 Perseverance Rover Mission',\n",
       "  'news_p': \"NASA's next rover to the Red Planet is slated to launch no earlier than July 30. These highlights will get you up to speed on the ambitious mission.\"},\n",
       " {'news_title': \"NASA's InSight Flexes Its Arm While Its 'Mole' Hits Pause\",\n",
       "  'news_p': \"Now that the lander's robotic arm has helped the mole get underground, it will resume science activities that have been on hold.\"},\n",
       " {'news_title': \"Curiosity Mars Rover's Summer Road Trip Has Begun\",\n",
       "  'news_p': 'After more than a year in the \"clay-bearing unit,\" Curiosity is making a mile-long journey around some deep sand so that it can explore higher up Mount Sharp.'},\n",
       " {'news_title': \"How NASA's Mars Helicopter Will Reach the Red Planet's Surface\",\n",
       "  'news_p': 'The small craft will seek to prove that powered, controlled flight is possible on another planet. But just getting it onto the surface of Mars will take a whole lot of ingenuity.'},\n",
       " {'news_title': \"The Launch Is Approaching for NASA's Next Mars Rover, Perseverance\",\n",
       "  'news_p': \"The Red Planet's surface has been visited by eight NASA spacecraft. The ninth will be the first that includes a roundtrip ticket in its flight plan. \"},\n",
       " {'news_title': 'NASA to Hold Mars 2020 Perseverance Rover Launch Briefing',\n",
       "  'news_p': \"Learn more about the agency's next Red Planet mission during a live event on June 17.\"},\n",
       " {'news_title': \"While Stargazing on Mars, NASA's Curiosity Rover Spots Earth and Venus\",\n",
       "  'news_p': \"This new portrait of the Red Planet's neighbors was taken during a time when there's more dust in the air on Mars.\"},\n",
       " {'news_title': \"NASA's Mars Rover Drivers Need Your Help\",\n",
       "  'news_p': 'Using an online tool to label Martian terrain types, you can train an artificial intelligence algorithm that could improve the way engineers guide the Curiosity rover.'},\n",
       " {'news_title': \"Three New Views of Mars' Moon Phobos\",\n",
       "  'news_p': \"Taken with the infrared camera aboard NASA's Odyssey orbiter, they reveal temperature variations on the small moon as it drifts into and out of Mars’ shadow.\"},\n",
       " {'news_title': \"The Extraordinary Sample-Gathering System of NASA's Perseverance Mars Rover\",\n",
       "  'news_p': 'Two astronauts collected Moon rocks on Apollo 11. It will take three robotic systems working together to gather up the first Mars rock samples for return to Earth.'},\n",
       " {'news_title': \"The Detective Aboard NASA's Perseverance Rover\",\n",
       "  'news_p': 'An instrument called SHERLOC will, with the help of its partner WATSON, hunt for signs of ancient life by detecting organic molecules and minerals.'},\n",
       " {'news_title': 'MAVEN Maps Electric Currents around Mars that are Fundamental to Atmospheric Loss',\n",
       "  'news_p': 'Five years after NASA’s MAVEN spacecraft entered into orbit around Mars, data from the mission has led to the creation of a map of electric current systems in the Martian atmosphere.'},\n",
       " {'news_title': \"Air Deliveries Bring NASA's Perseverance Mars Rover Closer to Launch\",\n",
       "  'news_p': \"A NASA Wallops Flight Facility cargo plane transported more than two tons of equipment — including the rover's sample collection tubes — to Florida for this summer's liftoff.\"},\n",
       " {'news_title': \"NASA Wins 4 Webbys, 4 People's Voice Awards\",\n",
       "  'news_p': 'Winners include the JPL-managed \"Send Your Name to Mars\" campaign, NASA\\'s Global Climate Change website and Solar System Interactive.'},\n",
       " {'news_title': \"NASA's Perseverance Rover Goes Through Trials by Fire, Ice, Light and Sound\",\n",
       "  'news_p': \"The agency's new Mars rover is put through a series of tests in vacuum chambers, acoustic chambers and more to get ready for the Red Planet.\"},\n",
       " {'news_title': \"NASA's Perseverance Rover Mission Getting in Shape for Launch\",\n",
       "  'news_p': 'Stacking spacecraft components on top of each other is one of the final assembly steps before a mission launches to the Red Planet. '},\n",
       " {'news_title': 'NASA Perseverance Mars Rover Scientists Train in the Nevada Desert',\n",
       "  'news_p': \"Team members searched for signs of ancient microscopic life there, just as NASA's latest rover will on the Red Planet next year.\"},\n",
       " {'news_title': \"NASA's Perseverance Rover Will Look at Mars Through These 'Eyes'\",\n",
       "  'news_p': 'A pair of zoomable cameras will help scientists and rover drivers with high-resolution color images.'},\n",
       " {'news_title': \"NASA's Perseverance Rover Will Peer Beneath Mars' Surface \",\n",
       "  'news_p': \"The agency's newest rover will use the first ground-penetrating radar instrument on the Martian surface to help search for signs of past microbial life. \"}]"
      ]
     },
     "execution_count": 16,
     "metadata": {},
     "output_type": "execute_result"
    }
   ],
   "source": [
    "mars_info"
   ]
  },
  {
   "cell_type": "code",
   "execution_count": null,
   "metadata": {},
   "outputs": [],
   "source": [
    "# -----------------------\n",
    "# Retrieve featured image\n",
    "# -----------------------\n",
    "img_site = \"https://www.jpl.nasa.gov/spaceimages/?search=&category=Mars\"\n",
    "browser.visit(img_site)\n",
    "browser.links.find_by_partial_text('FULL').click()\n",
    "browser.links.find_by_partial_href('/spaceimages/details').click()\n",
    "browser.links.find_by_partial_href('/spaceimages/images/largesize/').click()\n",
    "\n",
    "# https://splinter.readthedocs.io/en/latest/browser.html#verifying-page-url-with-browser-url\n",
    "featured_image_url = browser.url"
   ]
  },
  {
   "cell_type": "code",
   "execution_count": null,
   "metadata": {},
   "outputs": [],
   "source": [
    "# -----------------------\n",
    "# Retrieve facts table --\n",
    "# -----------------------\n",
    "\n",
    "facts_url ='https://space-facts.com/mars/'\n",
    "mars_facts = pd.read_html(facts_url)\n",
    "\n",
    "facts_table = mars_facts[0]\n",
    "facts_table.to_html('mars_facts.html')"
   ]
  },
  {
   "cell_type": "code",
   "execution_count": null,
   "metadata": {},
   "outputs": [],
   "source": [
    "# ------------------------------------------------\n",
    "# Create dictionary for hemispheres and image urls\n",
    "# ------------------------------------------------\n",
    "hemisphere_image_urls = []\n",
    "hemisphere_names = []"
   ]
  },
  {
   "cell_type": "code",
   "execution_count": null,
   "metadata": {},
   "outputs": [],
   "source": [
    "hems_url = 'https://astrogeology.usgs.gov/search/results?q=hemisphere+enhanced&k1=target&v1=Mars'\n",
    "browser.visit(hems_url)\n",
    "html = browser.html\n",
    "soup = BeautifulSoup(html, \"html.parser\")\n",
    "titles = soup.find_all(\"div\", class_=\"description\")\n",
    "for t in titles:\n",
    "    try:\n",
    "        result = []\n",
    "        result = t.find(\"h3\").get_text()\n",
    "        hemisphere_names.append(result)\n",
    "    except:\n",
    "        pass\n",
    "        "
   ]
  },
  {
   "cell_type": "code",
   "execution_count": null,
   "metadata": {},
   "outputs": [],
   "source": [
    "# hems_url = 'https://astrogeology.usgs.gov/search/results?q=hemisphere+enhanced&k1=target&v1=Mars'\n",
    "# browser.visit(hems_url)\n",
    "# html = browser.html\n",
    "# soup = BeautifulSoup(html, \"html.parser\")\n",
    "# titles = soup.find_all(\"div\", class_=\"description\")\n",
    "hemisphere_image_urls = []\n",
    "for h in hemisphere_names:\n",
    "    hems_url = 'https://astrogeology.usgs.gov/search/results?q=hemisphere+enhanced&k1=target&v1=Mars'\n",
    "    browser.visit(hems_url)\n",
    "    time.sleep(1)\n",
    "    html = browser.html\n",
    "    soup = BeautifulSoup(html, \"html.parser\")\n",
    "    browser.links.find_by_partial_text(h).click()\n",
    "    \n",
    "    result = {}\n",
    "    result[\"title\"] = h\n",
    "    browser.links.find_by_partial_text('Sample').click()\n",
    "    result[\"img_url\"] = browser.url+\".tif/full.jpg\"\n",
    "        \n",
    "    hemisphere_image_urls.append(result)\n",
    "\n",
    "    \n",
    "#     print(hemisphere_image_urls)"
   ]
  },
  {
   "cell_type": "code",
   "execution_count": null,
   "metadata": {},
   "outputs": [],
   "source": [
    "browser.quit()"
   ]
  },
  {
   "cell_type": "code",
   "execution_count": null,
   "metadata": {},
   "outputs": [],
   "source": []
  },
  {
   "cell_type": "code",
   "execution_count": null,
   "metadata": {},
   "outputs": [],
   "source": [
    "hemisphere_image_urls"
   ]
  },
  {
   "cell_type": "code",
   "execution_count": null,
   "metadata": {},
   "outputs": [],
   "source": []
  }
 ],
 "metadata": {
  "kernelspec": {
   "display_name": "Python 3",
   "language": "python",
   "name": "python3"
  },
  "language_info": {
   "codemirror_mode": {
    "name": "ipython",
    "version": 3
   },
   "file_extension": ".py",
   "mimetype": "text/x-python",
   "name": "python",
   "nbconvert_exporter": "python",
   "pygments_lexer": "ipython3",
   "version": "3.6.10"
  }
 },
 "nbformat": 4,
 "nbformat_minor": 4
}
